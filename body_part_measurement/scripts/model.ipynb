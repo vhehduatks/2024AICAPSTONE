{
 "cells": [
  {
   "cell_type": "code",
   "execution_count": 1,
   "metadata": {},
   "outputs": [],
   "source": [
    "import sys\n",
    "sys.path.append(\"..\")\n",
    "import tensorflow as tf\n",
    "import keras\n",
    "from model.blazepose import BlazePose\n",
    "from model.mobilenet_v3 import MobileNetV3\n",
    "# from model.applications.mobilenet_v3 import MobileNetV3Small\n",
    "from model.measurement_attention_mlp import get_measurement_attention_mlp\n",
    "# from model.applications.mobilenet_v2 import MobileNetV2\n",
    "# from model.tensorflow.python.keras.applications.mobilenet_v3 import MobileNetV3Small\n"
   ]
  },
  {
   "cell_type": "code",
   "execution_count": 2,
   "metadata": {},
   "outputs": [],
   "source": [
    "config = {\n",
    "    # common\n",
    "    'is_two_head_model': True,\n",
    "\n",
    "    # model\n",
    "    'input_shape': [256,256,3],\n",
    "    'batch_size': 4,\n",
    "    'path_pretrained': None, \n",
    "    'type_backbone': \"mbnv3\", \n",
    "    \n",
    "    # loss\n",
    "    'type_loss_fn': 'wing',\n",
    "    \n",
    "    # data\n",
    "    'path_classes': \"../seg_classes.txt\",\n",
    "    'shuffle': True, \n",
    "    'is_normalized': False, \n",
    "    'is_with_seg': False, \n",
    "    'path_dataset': \"C:\\\\Users\\\\user\\\\work\\\\data\\\\body_parts_measurement\",\n",
    "    'num_category_bmi': 10,\n",
    "    'num_category_height': 10,\n",
    "\n",
    "    # train\n",
    "    'epochs': 30,\n",
    "    'eval_term': 2\n",
    "}"
   ]
  },
  {
   "cell_type": "code",
   "execution_count": 3,
   "metadata": {},
   "outputs": [],
   "source": [
    "input_shape = config[\"input_shape\"]\n",
    "batch_size = config[\"batch_size\"]\n",
    "type_backbone = config[\"type_backbone\"]\n",
    "is_with_seg = config[\"is_with_seg\"]\n",
    "num_category_bmi = config[\"num_category_bmi\"]\n",
    "num_category_height = config[\"num_category_height\"]"
   ]
  },
  {
   "cell_type": "code",
   "execution_count": 4,
   "metadata": {},
   "outputs": [],
   "source": [
    "measurement_attention_mlp = get_measurement_attention_mlp(batch_size=batch_size, shape_categorical_data=num_category_bmi + num_category_height)"
   ]
  },
  {
   "cell_type": "code",
   "execution_count": 5,
   "metadata": {},
   "outputs": [
    {
     "name": "stdout",
     "output_type": "stream",
     "text": [
      "[<KerasTensor: shape=(4, 20) dtype=float32 (created by layer 'input_1')>]\n",
      "[<KerasTensor: shape=(4, 32, 32, 1) dtype=float32 (created by layer 'tf.reshape')>, <KerasTensor: shape=(4, 16, 16, 1) dtype=float32 (created by layer 'tf.reshape_1')>, <KerasTensor: shape=(4, 8, 8, 1) dtype=float32 (created by layer 'tf.reshape_2')>]\n"
     ]
    }
   ],
   "source": [
    "print(measurement_attention_mlp.inputs)\n",
    "print(measurement_attention_mlp.outputs)"
   ]
  },
  {
   "cell_type": "code",
   "execution_count": 6,
   "metadata": {},
   "outputs": [],
   "source": [
    "input_layer = tf.keras.layers.Input(shape=(256,256,3), batch_size=4)"
   ]
  },
  {
   "cell_type": "code",
   "execution_count": 7,
   "metadata": {},
   "outputs": [
    {
     "name": "stdout",
     "output_type": "stream",
     "text": [
      "1 (4, 64, 64, 16)\n",
      "2 (4, 32, 32, 24)\n",
      "3 (4, 32, 32, 24)\n",
      "4 (4, 16, 16, 40)\n",
      "5 (4, 16, 16, 40)\n",
      "6 (4, 16, 16, 40)\n",
      "7 (4, 16, 16, 48)\n",
      "8 (4, 16, 16, 48)\n",
      "segs KerasTensor(type_spec=TensorSpec(shape=(4, 128, 128, 10), dtype=tf.float32, name=None), name='p_re_lu_2/add:0', description=\"created by layer 'p_re_lu_2'\")\n",
      "9 (4, 8, 8, 96)\n",
      "10 (4, 8, 8, 96)\n",
      "11 (4, 8, 8, 96)\n",
      "12 (4, 8, 8, 576)\n",
      "13 (4, 2, 2, 577)\n",
      "14 (4, 2, 2, 1280)\n",
      "15 (4, 2, 2, 1000)\n",
      "Model: \"MobileNetV3_small\"\n",
      "__________________________________________________________________________________________________\n",
      "Layer (type)                    Output Shape         Param #     Connected to                     \n",
      "==================================================================================================\n",
      "input_2 (InputLayer)            [(4, 256, 256, 3)]   0                                            \n",
      "__________________________________________________________________________________________________\n",
      "ConvBnAct_0 (ConvBnAct)         (4, 128, 128, 16)    512         input_2[0][0]                    \n",
      "__________________________________________________________________________________________________\n",
      "bneck_1 (BottleNeck)            (4, 64, 64, 16)      992         ConvBnAct_0[0][0]                \n",
      "__________________________________________________________________________________________________\n",
      "input_1 (InputLayer)            [(4, 20)]            0                                            \n",
      "__________________________________________________________________________________________________\n",
      "bneck_2 (BottleNeck)            (4, 32, 32, 24)      4272        bneck_1[0][0]                    \n",
      "__________________________________________________________________________________________________\n",
      "dense (Dense)                   (4, 1024)            21504       input_1[0][0]                    \n",
      "__________________________________________________________________________________________________\n",
      "bneck_3 (BottleNeck)            (4, 32, 32, 24)      5904        bneck_2[0][0]                    \n",
      "__________________________________________________________________________________________________\n",
      "tf.reshape (TFOpLambda)         (4, 32, 32, 1)       0           dense[0][0]                      \n",
      "__________________________________________________________________________________________________\n",
      "tf.concat (TFOpLambda)          (4, 32, 32, 25)      0           bneck_3[0][0]                    \n",
      "                                                                 tf.reshape[0][0]                 \n",
      "__________________________________________________________________________________________________\n",
      "bneck_4 (BottleNeck)            (4, 16, 16, 40)      14272       tf.concat[0][0]                  \n",
      "__________________________________________________________________________________________________\n",
      "bneck_5 (BottleNeck)            (4, 16, 16, 40)      56320       bneck_4[0][0]                    \n",
      "__________________________________________________________________________________________________\n",
      "bneck_6 (BottleNeck)            (4, 16, 16, 40)      56320       bneck_5[0][0]                    \n",
      "__________________________________________________________________________________________________\n",
      "bneck_7 (BottleNeck)            (4, 16, 16, 48)      22032       bneck_6[0][0]                    \n",
      "__________________________________________________________________________________________________\n",
      "dense_1 (Dense)                 (4, 256)             262400      dense[0][0]                      \n",
      "__________________________________________________________________________________________________\n",
      "bneck_8 (BottleNeck)            (4, 16, 16, 48)      29280       bneck_7[0][0]                    \n",
      "__________________________________________________________________________________________________\n",
      "tf.reshape_1 (TFOpLambda)       (4, 16, 16, 1)       0           dense_1[0][0]                    \n",
      "__________________________________________________________________________________________________\n",
      "tf.concat_1 (TFOpLambda)        (4, 16, 16, 49)      0           bneck_8[0][0]                    \n",
      "                                                                 tf.reshape_1[0][0]               \n",
      "__________________________________________________________________________________________________\n",
      "bneck_9 (BottleNeck)            (4, 8, 8, 96)        93408       tf.concat_1[0][0]                \n",
      "__________________________________________________________________________________________________\n",
      "bneck_10 (BottleNeck)           (4, 8, 8, 96)        296448      bneck_9[0][0]                    \n",
      "__________________________________________________________________________________________________\n",
      "bneck_11 (BottleNeck)           (4, 8, 8, 96)        296448      bneck_10[0][0]                   \n",
      "__________________________________________________________________________________________________\n",
      "dense_2 (Dense)                 (4, 64)              16448       dense_1[0][0]                    \n",
      "__________________________________________________________________________________________________\n",
      "ConvBnAct_12 (ConvBnAct)        (4, 8, 8, 576)       58176       bneck_11[0][0]                   \n",
      "__________________________________________________________________________________________________\n",
      "tf.reshape_2 (TFOpLambda)       (4, 8, 8, 1)         0           dense_2[0][0]                    \n",
      "__________________________________________________________________________________________________\n",
      "tf.concat_2 (TFOpLambda)        (4, 8, 8, 577)       0           ConvBnAct_12[0][0]               \n",
      "                                                                 tf.reshape_2[0][0]               \n",
      "__________________________________________________________________________________________________\n",
      "pool_13 (Pool)                  (4, 2, 2, 577)       0           tf.concat_2[0][0]                \n",
      "__________________________________________________________________________________________________\n",
      "conv2d_transpose (Conv2DTranspo (4, 32, 32, 10)      4330        bneck_8[0][0]                    \n",
      "__________________________________________________________________________________________________\n",
      "ConvNBnAct_14 (ConvNBnAct)      (4, 2, 2, 1280)      739840      pool_13[0][0]                    \n",
      "__________________________________________________________________________________________________\n",
      "p_re_lu (PReLU)                 (4, 32, 32, 10)      10240       conv2d_transpose[0][0]           \n",
      "__________________________________________________________________________________________________\n",
      "Dropout (CusDropout)            (4, 2, 2, 1280)      0           ConvNBnAct_14[0][0]              \n",
      "__________________________________________________________________________________________________\n",
      "conv2d_transpose_1 (Conv2DTrans (4, 64, 64, 10)      910         p_re_lu[0][0]                    \n",
      "__________________________________________________________________________________________________\n",
      "ConvNBnAct_15 (ConvNBnAct)      (4, 2, 2, 1000)      1281000     Dropout[0][0]                    \n",
      "__________________________________________________________________________________________________\n",
      "p_re_lu_1 (PReLU)               (4, 64, 64, 10)      40960       conv2d_transpose_1[0][0]         \n",
      "__________________________________________________________________________________________________\n",
      "conv2d (Conv2D)                 (4, 1, 1, 31)        124031      ConvNBnAct_15[0][0]              \n",
      "__________________________________________________________________________________________________\n",
      "conv2d_transpose_2 (Conv2DTrans (4, 128, 128, 10)    910         p_re_lu_1[0][0]                  \n",
      "__________________________________________________________________________________________________\n",
      "tf.reshape_3 (TFOpLambda)       (4, 31)              0           conv2d[0][0]                     \n",
      "__________________________________________________________________________________________________\n",
      "p_re_lu_2 (PReLU)               (4, 128, 128, 10)    163840      conv2d_transpose_2[0][0]         \n",
      "==================================================================================================\n",
      "Total params: 3,600,797\n",
      "Trainable params: 3,588,653\n",
      "Non-trainable params: 12,144\n",
      "__________________________________________________________________________________________________\n"
     ]
    }
   ],
   "source": [
    "model = MobileNetV3(input_layer=input_layer, type=\"small\", attention_model=measurement_attention_mlp, num_seg_channels=10, num_keypoints=31)"
   ]
  },
  {
   "cell_type": "code",
   "execution_count": null,
   "metadata": {},
   "outputs": [],
   "source": [
    "print(model.inputs)\n",
    "print(model.outputs)"
   ]
  },
  {
   "cell_type": "code",
   "execution_count": null,
   "metadata": {},
   "outputs": [],
   "source": [
    "model.summary()"
   ]
  },
  {
   "cell_type": "code",
   "execution_count": null,
   "metadata": {},
   "outputs": [],
   "source": [
    "model = tf.keras.applications.MobileNetV3Small(include_top=False)"
   ]
  },
  {
   "cell_type": "code",
   "execution_count": null,
   "metadata": {},
   "outputs": [],
   "source": [
    "x = model(input_layer)"
   ]
  },
  {
   "cell_type": "code",
   "execution_count": null,
   "metadata": {},
   "outputs": [],
   "source": [
    "x = tf.keras.layers.DepthwiseConv2D(kernel_size=(3, 3), strides=(2, 2), padding='same', use_bias=True)(model.output)\n",
    "x = tf.keras.layers.Conv2D(31, kernel_size=(1, 1), strides=(1, 1), padding='valid')(x)\n",
    "x = tf.keras.layers.PReLU(alpha_initializer='uniform')(x)\n",
    "output_layer = tf.squeeze(x)"
   ]
  },
  {
   "cell_type": "code",
   "execution_count": null,
   "metadata": {},
   "outputs": [],
   "source": [
    "model = tf.keras.Model(inputs=model.input, outputs=output_layer)"
   ]
  },
  {
   "cell_type": "code",
   "execution_count": null,
   "metadata": {},
   "outputs": [],
   "source": [
    "model.summary()"
   ]
  },
  {
   "cell_type": "code",
   "execution_count": null,
   "metadata": {},
   "outputs": [],
   "source": [
    "for layer in model.layers:\n",
    "    layer.trainable=True\n",
    "    print(\"layer\",layer)"
   ]
  },
  {
   "cell_type": "code",
   "execution_count": null,
   "metadata": {},
   "outputs": [],
   "source": [
    "model.summary()"
   ]
  },
  {
   "cell_type": "code",
   "execution_count": null,
   "metadata": {},
   "outputs": [],
   "source": []
  }
 ],
 "metadata": {
  "interpreter": {
   "hash": "2d10a1d14f906cf696e46041477fc2b17fecaf759e8e084262933cf48dc10c4e"
  },
  "kernelspec": {
   "display_name": "Python 3.7.5 64-bit ('py375tf26g': conda)",
   "name": "python3"
  },
  "language_info": {
   "codemirror_mode": {
    "name": "ipython",
    "version": 3
   },
   "file_extension": ".py",
   "mimetype": "text/x-python",
   "name": "python",
   "nbconvert_exporter": "python",
   "pygments_lexer": "ipython3",
   "version": "3.9.13"
  },
  "orig_nbformat": 4
 },
 "nbformat": 4,
 "nbformat_minor": 2
}
