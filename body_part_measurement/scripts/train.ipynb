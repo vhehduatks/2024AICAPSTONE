{
 "cells": [
  {
   "cell_type": "code",
   "execution_count": 1,
   "metadata": {},
   "outputs": [],
   "source": [
    "import tensorflow as tf\n",
    "import numpy as np\n",
    "from matplotlib import pyplot as plt\n",
    "import sys\n",
    "sys.path.append(\"..\")\n",
    "from train import BodyPartsMeasurementTrainer\n",
    "from body_parts_measurement_data_generator import BodyPartsMeasurementDataGenerator\n",
    "import tensorflow as tf\n",
    "from evaluator import Evaluator\n",
    "from model.model import get_model\n",
    "from tqdm import tqdm\n",
    "import wandb"
   ]
  },
  {
   "cell_type": "code",
   "execution_count": 2,
   "metadata": {},
   "outputs": [],
   "source": [
    "config = {\n",
    "    # model\n",
    "    'input_shape': [256,256,3],     # 훈련 이미지 크기\n",
    "    'batch_size': 2,                # 배치 사이즈\n",
    "    'path_pretrained': r\"C:\\AI_class_yang\\AI_code\\신체 치수 예측\\body_part_measurement_source\\body_part_measurement\\blazepose_attention_0_3.2034787193590604.h5\",        # pretrained 모델 경로\n",
    "    # 'path_pretrained': None,\n",
    "    'type_backbone': \"blazepose\",   # backbone type (blazepose, mbnv3)\n",
    "    \n",
    "    # loss\n",
    "    'type_loss_fn': 'wing',         # 손실 함수 설정 (wing, mae)\n",
    "    \n",
    "    # data\n",
    "    'seg_shape': [64,64],           # segmentation 크기 *미사용\n",
    "    'path_classes': \"../seg_classes.txt\",   # segmentation class 정보 *미사용\n",
    "    'shuffle': True,                # 데이터 섞기\n",
    "    'is_normalized': False,         # normalize 데이터\n",
    "    'is_with_seg': False,           # segmentation 사용 여부 *미사용\n",
    "    # 'path_dataset': r\"C:\\AI_class_yang\\sample_data_2\", # 데이터 경로\n",
    "\t'path_dataset' : r'F:\\AI_Project_Img_Process',\n",
    "\n",
    "    ## attention type              \n",
    "    'type_attention': \"regression\", # attention 종류 (regression, categorical, none)\n",
    "    'num_category_bmi': 10,         # categorical 시의 bmi category 갯수 변수\n",
    "    'num_category_height': 10,      # categorical 시의 height category 갯수 변수\n",
    "    'has_filename': False,\n",
    "\n",
    "    # train\n",
    "    'epochs': 1,                   # 훈련 epoch 수\n",
    "    'eval_term': 1                  # 평가 빈도\n",
    "}"
   ]
  },
  {
   "cell_type": "code",
   "execution_count": 3,
   "metadata": {},
   "outputs": [
    {
     "name": "stdout",
     "output_type": "stream",
     "text": [
      "list_user_dirs ['F009', 'F010', 'F011', 'F013', 'F014', 'F015', 'F016', 'F017', 'F018', 'F019', 'F020', 'F023', 'F026', 'F027', 'F028', 'F029', 'F030', 'F033', 'F034', 'F035', 'F036', 'F037', 'F038', 'F039', 'F040', 'F041', 'F042', 'F043', 'F045', 'F046', 'F047', 'F048', 'F050', 'F051', 'F052', 'F054', 'F055', 'F057', 'F059', 'F062', 'F063', 'F064', 'F065', 'F067', 'F068', 'F069', 'F070', 'F073', 'F074', 'F075', 'F076', 'F077', 'F078', 'F081', 'F082', 'F083', 'F084', 'F085', 'F086', 'F087', 'F089', 'F091', 'F093', 'F094', 'F095', 'F096', 'F097', 'F098', 'F099', 'F100', 'F101', 'F102', 'F103', 'F104', 'F105', 'F106', 'F108', 'F109', 'F111', 'F112', 'F113', 'F114', 'F115', 'F118', 'F122', 'F124', 'F126', 'F127', 'F129', 'F130', 'F131', 'F132', 'F133', 'F135', 'F136', 'F137', 'F138', 'F139', 'F140', 'F141', 'F142', 'F143', 'F146', 'F147', 'F148', 'F150', 'F152', 'F153', 'F154', 'F155', 'F156', 'F158', 'F161', 'F162', 'F163', 'F164', 'F165', 'F166', 'F167', 'F168', 'F169', 'F170', 'F171', 'F172', 'F173', 'F174', 'F175', 'F176', 'F177', 'F178', 'F179', 'F180', 'F182', 'F184', 'F186', 'F187', 'F188', 'F189', 'F191', 'F193', 'F196', 'F197', 'F199', 'F200', 'F201', 'F204', 'F205', 'F206', 'F207', 'F208', 'F209', 'F210', 'F211', 'F212', 'F213', 'F214', 'F215', 'F216', 'F217', 'F218', 'F219', 'F220', 'F221', 'F222', 'F224', 'F226', 'F227', 'F228', 'F229', 'F230', 'F231', 'F232', 'F233', 'F234', 'F235', 'F236', 'F239', 'F240', 'F242', 'F243', 'F245', 'F246', 'F247', 'F248', 'F249', 'F250', 'F251', 'F252', 'F253', 'F254', 'F255', 'F256', 'F257', 'F258', 'F259', 'F260', 'F261', 'F262', 'F263', 'F264', 'F265', 'F266', 'F268', 'F269', 'F270', 'F271', 'F272', 'F273', 'F274', 'F275', 'F276', 'F277', 'F278', 'F279', 'F280', 'F281', 'F282', 'F284', 'F285', 'F286', 'F287', 'F289', 'F290', 'F292', 'F293', 'F294', 'F295', 'F297', 'F298', 'F299', 'F300', 'F301', 'F302', 'F303', 'F305', 'F306', 'F307', 'F308', 'F309', 'F312', 'F313', 'F314', 'F315', 'F316', 'F319', 'F320', 'F321', 'F322', 'F323', 'F324', 'F326', 'F327', 'F328', 'F329', 'F331', 'F332', 'F333', 'F335', 'F337', 'F338', 'F339', 'F342', 'F343', 'F344', 'F345', 'F346', 'F348', 'F349', 'F350', 'F351', 'F353', 'F354', 'F356', 'F357', 'F359', 'F360', 'F361', 'F362', 'F363', 'F364', 'F365', 'F367', 'F370', 'F371', 'F372', 'F373', 'F374', 'F376', 'F377', 'F378', 'F379', 'F380', 'F381', 'F383', 'F384', 'F385', 'F387', 'F389', 'F390', 'F391', 'F392', 'F393', 'F394', 'F395', 'F396', 'F398', 'F400', 'F401', 'F402', 'F403', 'F405', 'F406', 'F407', 'F408', 'F409', 'F410', 'F411', 'F412', 'F413', 'F414', 'F415', 'F416', 'F417', 'F418', 'F419', 'F420', 'F424', 'F425', 'F426', 'F427', 'F428', 'F429', 'F430', 'F431', 'F432', 'F434', 'F435', 'F436', 'F437', 'F438', 'F439', 'F440', 'F441', 'F443', 'F444', 'F445', 'F446', 'F448', 'F449', 'F450', 'F451', 'F452', 'F453', 'F455', 'F456', 'F457', 'F458', 'F459', 'F460', 'F461', 'F463', 'F466', 'F467', 'F468', 'F469', 'F471', 'F472', 'F473', 'F474', 'F475', 'F477', 'F478', 'F480', 'F482', 'F483', 'F485', 'F486', 'F488', 'F489', 'F490', 'F492', 'F493', 'F494', 'F495', 'F496', 'F498', 'F499', 'F500', 'M010', 'M011', 'M012', 'M013', 'M014', 'M015', 'M016', 'M017', 'M018', 'M019', 'M020', 'M021', 'M022', 'M023', 'M024', 'M025', 'M026', 'M027', 'M029', 'M032', 'M033', 'M034', 'M035', 'M036', 'M037', 'M038', 'M039', 'M040', 'M041', 'M042', 'M043', 'M045', 'M046', 'M047', 'M048', 'M049', 'M050', 'M051', 'M053', 'M054', 'M055', 'M056', 'M057', 'M058', 'M059', 'M060', 'M061', 'M062', 'M063', 'M065', 'M066', 'M067', 'M069', 'M070', 'M071', 'M075', 'M076', 'M077', 'M078', 'M079', 'M080', 'M081', 'M082', 'M083', 'M084', 'M085', 'M086', 'M087', 'M088', 'M089', 'M091', 'M092', 'M093', 'M096', 'M097', 'M101', 'M102', 'M103', 'M104', 'M105', 'M108', 'M110', 'M111', 'M112', 'M113', 'M114', 'M115', 'M117', 'M119', 'M120', 'M121', 'M122', 'M123', 'M124', 'M125', 'M126', 'M127', 'M128', 'M129', 'M130', 'M131', 'M132', 'M133', 'M134', 'M135', 'M136', 'M137', 'M138', 'M140', 'M141', 'M143', 'M145', 'M146', 'M148', 'M149', 'M150', 'M151', 'M153', 'M156', 'M159', 'M161', 'M165', 'M166', 'M168', 'M170', 'M171', 'M172', 'M174', 'M175', 'M177', 'M179', 'M180', 'M181', 'M182', 'M183', 'M184', 'M186', 'M187', 'M188', 'M189', 'M190', 'M191', 'M192', 'M193', 'M194', 'M196', 'M197', 'M198', 'M199', 'M200', 'M202', 'M204', 'M205', 'M207', 'M208', 'M209', 'M211', 'M212', 'M213', 'M214', 'M217', 'M220', 'M221', 'M222', 'M223', 'M225', 'M226', 'M227', 'M228', 'M230', 'M233', 'M234', 'M236', 'M237', 'M238', 'M240', 'M241', 'M242', 'M244', 'M245', 'M246', 'M248', 'M249', 'M250', 'M252', 'M253', 'M254', 'M255', 'M256', 'M257', 'M258', 'M259', 'M260', 'M261', 'M262', 'M263', 'M264', 'M265', 'M266', 'M267', 'M271', 'M273', 'M276', 'M277', 'M278', 'M279', 'M280', 'M281', 'M283', 'M285', 'M286', 'M287', 'M288', 'M290', 'M291', 'M293', 'M295', 'M296', 'M297', 'M298', 'M299', 'M301', 'M302', 'M303', 'M307', 'M308', 'M309', 'M310', 'M311', 'M312', 'M313', 'M315', 'M316', 'M317', 'M318', 'M320', 'M321', 'M322', 'M323', 'M325', 'M327', 'M329', 'M330', 'M331', 'M334', 'M335', 'M336', 'M337', 'M338', 'M339', 'M340', 'M341', 'M342', 'M343', 'M345', 'M347', 'M351', 'M353', 'M356', 'M357', 'M358', 'M359', 'M361', 'M362', 'M363', 'M364', 'M366', 'M367', 'M369', 'M370', 'M372', 'M373', 'M374', 'M375', 'M376', 'M378', 'M379', 'M380', 'M381', 'M383', 'M384', 'M387', 'M389', 'M390', 'M393', 'M394', 'M395', 'M396', 'M397', 'M398', 'M399', 'M400', 'M401', 'M402', 'M403', 'M404', 'M405', 'M406', 'M408', 'M409', 'M410', 'M412', 'M413', 'M414', 'M417', 'M418', 'M419', 'M420', 'M422', 'M424', 'M425', 'M427', 'M428', 'M429', 'M430', 'M431', 'M432', 'M433', 'M434', 'M436', 'M437', 'M438', 'M439', 'M440', 'M441', 'M442', 'M444', 'M445', 'M446', 'M447', 'M448', 'M449', 'M450', 'M451', 'M452', 'M453', 'M454', 'M455', 'M456', 'M457', 'M459', 'M460', 'M464', 'M465', 'M467', 'M470', 'M471', 'M472', 'M473', 'M476', 'M477', 'M478', 'M480', 'M481', 'M482', 'M483', 'M484', 'M485', 'M486', 'M487', 'M488', 'M494', 'M495', 'M496', 'M497', 'M498', 'M499', 'M500', 'M502', 'M503', 'M504', 'M505']\n",
      "list_user_dirs ['F031', 'F032', 'F049', 'F058', 'F060', 'F072', 'F092', 'F107', 'F116', 'F125', 'F144', 'F145', 'F157', 'F159', 'F181', 'F185', 'F190', 'F192', 'F194', 'F195', 'F198', 'F202', 'F203', 'F241', 'F244', 'F283', 'F291', 'F304', 'F318', 'F325', 'F330', 'F334', 'F340', 'F347', 'F352', 'F358', 'F369', 'F382', 'F404', 'F422', 'F433', 'F442', 'F447', 'F462', 'F479', 'F481', 'M052', 'M074', 'M095', 'M098', 'M107', 'M116', 'M118', 'M154', 'M155', 'M160', 'M164', 'M167', 'M173', 'M176', 'M203', 'M215', 'M216', 'M224', 'M235', 'M272', 'M289', 'M292', 'M300', 'M305', 'M324', 'M326', 'M333', 'M344', 'M346', 'M350', 'M354', 'M355', 'M365', 'M385', 'M392', 'M415', 'M416', 'M423', 'M435', 'M462', 'M466', 'M468', 'M479', 'M489', 'M490', 'M493']\n",
      "pretrained model loaded from C:\\AI_class_yang\\AI_code\\신체 치수 예측\\body_part_measurement_source\\body_part_measurement\\blazepose_attention_0_3.2034787193590604.h5\n"
     ]
    }
   ],
   "source": [
    "trainer = BodyPartsMeasurementTrainer(config)"
   ]
  },
  {
   "cell_type": "code",
   "execution_count": 4,
   "metadata": {},
   "outputs": [
    {
     "name": "stderr",
     "output_type": "stream",
     "text": [
      "epoch:0/1,loss_measurement:2.1237,acc_mape:1.3414: 100%|██████████| 378/378 [01:52<00:00,  3.37it/s]\n"
     ]
    },
    {
     "name": "stdout",
     "output_type": "stream",
     "text": [
      "loss_epoch_train tf.Tensor(2.4331648, shape=(), dtype=float32)\n",
      "mape_epoch_train tf.Tensor(1.7175606, shape=(), dtype=float32)\n"
     ]
    },
    {
     "name": "stderr",
     "output_type": "stream",
     "text": [
      "100%|██████████| 108/108 [02:10<00:00,  1.21s/it]\n"
     ]
    },
    {
     "name": "stdout",
     "output_type": "stream",
     "text": [
      "loss_epoch_val tf.Tensor(4.143225, shape=(), dtype=float32)\n",
      "mape_epoch_val tf.Tensor(3.0226455, shape=(), dtype=float32)\n"
     ]
    }
   ],
   "source": [
    "trainer.start()"
   ]
  },
  {
   "cell_type": "code",
   "execution_count": 5,
   "metadata": {},
   "outputs": [
    {
     "ename": "RuntimeError",
     "evalue": "No active exception to reraise",
     "output_type": "error",
     "traceback": [
      "\u001b[1;31m---------------------------------------------------------------------------\u001b[0m",
      "\u001b[1;31mRuntimeError\u001b[0m                              Traceback (most recent call last)",
      "Input \u001b[1;32mIn [5]\u001b[0m, in \u001b[0;36m<cell line: 1>\u001b[1;34m()\u001b[0m\n\u001b[1;32m----> 1\u001b[0m \u001b[38;5;28;01mraise\u001b[39;00m\n\u001b[0;32m      2\u001b[0m \u001b[38;5;28mprint\u001b[39m(data[\u001b[38;5;241m2\u001b[39m]\u001b[38;5;241m.\u001b[39mshape)\n\u001b[0;32m      3\u001b[0m \u001b[38;5;28mprint\u001b[39m(np\u001b[38;5;241m.\u001b[39mamax(data[\u001b[38;5;241m2\u001b[39m]))\n",
      "\u001b[1;31mRuntimeError\u001b[0m: No active exception to reraise"
     ]
    }
   ],
   "source": [
    "raise\n",
    "print(data[2].shape)\n",
    "print(np.amax(data[2]))"
   ]
  },
  {
   "cell_type": "code",
   "execution_count": null,
   "metadata": {},
   "outputs": [],
   "source": [
    "plt.imshow(data[2][0,:,:,0])\n",
    "plt.show()"
   ]
  },
  {
   "cell_type": "code",
   "execution_count": null,
   "metadata": {},
   "outputs": [],
   "source": [
    "result = model.predict(data[0])"
   ]
  },
  {
   "cell_type": "code",
   "execution_count": null,
   "metadata": {},
   "outputs": [],
   "source": [
    "trainer.start()"
   ]
  },
  {
   "cell_type": "code",
   "execution_count": null,
   "metadata": {},
   "outputs": [],
   "source": [
    "model.outputs"
   ]
  },
  {
   "cell_type": "code",
   "execution_count": null,
   "metadata": {},
   "outputs": [],
   "source": [
    "mbnv3.outputs"
   ]
  },
  {
   "cell_type": "code",
   "execution_count": null,
   "metadata": {},
   "outputs": [],
   "source": [
    "mbnv2.outputs"
   ]
  },
  {
   "cell_type": "code",
   "execution_count": null,
   "metadata": {},
   "outputs": [],
   "source": [
    "x = tf.keras.layers.MaxPooling2D(pool_size=(4, 4), strides=(4, 4), padding='valid')(mbnv2.outputs[0])\n",
    "\n",
    "print(x)\n",
    "\n",
    "x = tf.keras.layers.DepthwiseConv2D(kernel_size=(3, 3), strides=(2, 2), padding='same', use_bias=True)(x)\n",
    "x = tf.keras.layers.Conv2D(36, kernel_size=(1, 1), strides=(1, 1), padding='valid')(x)\n",
    "x = tf.keras.layers.PReLU(alpha_initializer='uniform')(x)\n",
    "x = tf.squeeze(x)\n",
    "print(x)\n",
    "\n",
    "# x = tf.keras.layers.DepthwiseConv2D(kernel_size=(3, 3), strides=(2, 2), padding='same', use_bias=True)(mbnv2.outputs[0])\n",
    "# x = tf.keras.layers.Conv2D(128, kernel_size=(1, 1), strides=(1, 1), padding='valid')(x)\n",
    "# x = tf.keras.layers.Add()([shortcut, x])"
   ]
  },
  {
   "cell_type": "code",
   "execution_count": null,
   "metadata": {},
   "outputs": [],
   "source": []
  }
 ],
 "metadata": {
  "kernelspec": {
   "display_name": "TF_gpu",
   "language": "python",
   "name": "python3"
  },
  "language_info": {
   "codemirror_mode": {
    "name": "ipython",
    "version": 3
   },
   "file_extension": ".py",
   "mimetype": "text/x-python",
   "name": "python",
   "nbconvert_exporter": "python",
   "pygments_lexer": "ipython3",
   "version": "3.9.13"
  },
  "orig_nbformat": 4
 },
 "nbformat": 4,
 "nbformat_minor": 2
}
