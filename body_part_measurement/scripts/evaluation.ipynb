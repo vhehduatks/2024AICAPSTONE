{
 "cells": [
  {
   "cell_type": "code",
   "execution_count": 1,
   "metadata": {},
   "outputs": [],
   "source": [
    "import tensorflow as tf\n",
    "import numpy as np\n",
    "from matplotlib import pyplot as plt\n",
    "import datetime\n",
    "import sys\n",
    "sys.path.append(\"..\")\n",
    "from train import BodyPartsMeasurementTrainer\n",
    "from body_parts_measurement_data_generator import BodyPartsMeasurementDataGenerator\n",
    "import tensorflow as tf\n",
    "from evaluator import Evaluator\n",
    "from model.model import get_model\n",
    "from tqdm import tqdm"
   ]
  },
  {
   "cell_type": "code",
   "execution_count": 4,
   "metadata": {},
   "outputs": [],
   "source": [
    "config = {\n",
    "\t# model\n",
    "\t'input_shape': [256,256,3],     # 훈련 이미지 크기\n",
    "\t'batch_size': 4,                # 배치 사이즈\n",
    "\t'path_pretrained': r\"C:\\AI_class_yang\\AI_code\\신체 치수 예측\\body_part_measurement_source\\body_part_measurement\\blazepose_attention_0_3.2034787193590604.h5\",        # pretrained 모델 경로\n",
    "\t# 'path_pretrained': None,\n",
    "\t'type_backbone': \"blazepose\",   # backbone type (blazepose, mbnv3)\n",
    "\t\n",
    "\t# loss\n",
    "\t'type_loss_fn': 'wing',         # 손실 함수 설정 (wing, mae)\n",
    "\t\n",
    "\t# data\n",
    "\t'seg_shape': [64,64],           # segmentation 크기 *미사용\n",
    "\t'path_classes': \"../seg_classes.txt\",   # segmentation class 정보 *미사용\n",
    "\t'shuffle': True,                # 데이터 섞기\n",
    "\t'is_normalized': False,         # normalize 데이터\n",
    "\t'is_with_seg': False,           # segmentation 사용 여부 *미사용\n",
    "\t'path_dataset': r\"F:\\AI_Project_Img_Process\", # 데이터 경로\n",
    "\t## attention type              \n",
    "\t'type_attention': \"regression\", # attention 종류 (regression, categorical, none)\n",
    "\t'num_category_bmi': 10,         # categorical 시의 bmi category 갯수 변수\n",
    "\t'num_category_height': 10,      # categorical 시의 height category 갯수 변수\n",
    "\t'has_filename': False,\n",
    "\n",
    "\t# train\n",
    "\t'epochs': 3,                   # 훈련 epoch 수\n",
    "\t'eval_term': 1                  # 평가 빈도\n",
    "}"
   ]
  },
  {
   "cell_type": "code",
   "execution_count": 5,
   "metadata": {},
   "outputs": [],
   "source": [
    "model = get_model(config)"
   ]
  },
  {
   "cell_type": "code",
   "execution_count": 6,
   "metadata": {},
   "outputs": [],
   "source": [
    "# model.load_weights('blazepose_attention_31features_731train_mf/blazepose_attention_0_2.994556342230903.h5')\n",
    "model.load_weights(r'C:\\AI_class_yang\\AI_code\\신체 치수 예측\\body_part_measurement_source\\body_part_measurement\\scripts\\blazepose_attention_0_3.022645455819589.h5')"
   ]
  },
  {
   "cell_type": "code",
   "execution_count": 7,
   "metadata": {},
   "outputs": [
    {
     "name": "stdout",
     "output_type": "stream",
     "text": [
      "list_user_dirs ['F012', 'F021', 'F022', 'F024', 'F025', 'F053', 'F056', 'F061', 'F080', 'F088', 'F090', 'F110', 'F119', 'F120', 'F121', 'F123', 'F128', 'F134', 'F151', 'F183', 'F225', 'F238', 'F267', 'F288', 'F296', 'F310', 'F311', 'F317', 'F336', 'F341', 'F355', 'F366', 'F368', 'F375', 'F386', 'F388', 'F397', 'F399', 'F421', 'F423', 'F454', 'F464', 'F465', 'F487', 'F491', 'F497', 'M009', 'M028', 'M031', 'M044', 'M064', 'M068', 'M072', 'M100', 'M106', 'M109', 'M139', 'M142', 'M144', 'M162', 'M169', 'M178', 'M185', 'M195', 'M206', 'M229', 'M231', 'M232', 'M270', 'M284', 'M304', 'M306', 'M314', 'M319', 'M328', 'M348', 'M349', 'M352', 'M371', 'M377', 'M382', 'M386', 'M388', 'M411', 'M421', 'M443', 'M458', 'M469', 'M474', 'M491', 'M492', 'M501']\n"
     ]
    },
    {
     "data": {
      "text/plain": [
       "2484"
      ]
     },
     "execution_count": 7,
     "metadata": {},
     "output_type": "execute_result"
    }
   ],
   "source": [
    "data_generator_test = BodyPartsMeasurementDataGenerator(config, data_type=\"test\")\n",
    "len(data_generator_test)"
   ]
  },
  {
   "cell_type": "code",
   "execution_count": 8,
   "metadata": {},
   "outputs": [],
   "source": [
    "evaluator = Evaluator(data_generator_test, model)"
   ]
  },
  {
   "cell_type": "code",
   "execution_count": null,
   "metadata": {},
   "outputs": [
    {
     "name": "stderr",
     "output_type": "stream",
     "text": [
      "  0%|          | 0/2484 [00:00<?, ?it/s]"
     ]
    }
   ],
   "source": [
    "\n",
    "# evaluator.run_evaluation()\n",
    "evaluator.run_evaluation_new()"
   ]
  },
  {
   "cell_type": "code",
   "execution_count": 8,
   "metadata": {},
   "outputs": [
    {
     "ename": "IndexError",
     "evalue": "tuple index out of range",
     "output_type": "error",
     "traceback": [
      "\u001b[1;31m---------------------------------------------------------------------------\u001b[0m",
      "\u001b[1;31mIndexError\u001b[0m                                Traceback (most recent call last)",
      "Input \u001b[1;32mIn [8]\u001b[0m, in \u001b[0;36m<cell line: 4>\u001b[1;34m()\u001b[0m\n\u001b[0;32m      2\u001b[0m np_diff_percentage_parts_measurements \u001b[38;5;241m=\u001b[39m np\u001b[38;5;241m.\u001b[39msqueeze(np\u001b[38;5;241m.\u001b[39marray(evaluator\u001b[38;5;241m.\u001b[39mlist_diff_percentage_parts_measurements))\n\u001b[0;32m      3\u001b[0m list_part_mapes \u001b[38;5;241m=\u001b[39m []\n\u001b[1;32m----> 4\u001b[0m \u001b[38;5;28;01mfor\u001b[39;00m idx \u001b[38;5;129;01min\u001b[39;00m \u001b[38;5;28mrange\u001b[39m(\u001b[43mnp_diff_parts_measurements\u001b[49m\u001b[38;5;241;43m.\u001b[39;49m\u001b[43mshape\u001b[49m\u001b[43m[\u001b[49m\u001b[38;5;241;43m1\u001b[39;49m\u001b[43m]\u001b[49m) :\n\u001b[0;32m      5\u001b[0m \tpart_mape \u001b[38;5;241m=\u001b[39m \u001b[38;5;28msum\u001b[39m(np_diff_percentage_parts_measurements[:,idx])\u001b[38;5;241m/\u001b[39mnp_diff_parts_measurements\u001b[38;5;241m.\u001b[39mshape[\u001b[38;5;241m0\u001b[39m]\n\u001b[0;32m      6\u001b[0m \t\u001b[38;5;28mprint\u001b[39m(idx, part_mape)\n",
      "\u001b[1;31mIndexError\u001b[0m: tuple index out of range"
     ]
    }
   ],
   "source": [
    "np_diff_parts_measurements = np.squeeze(np.array(evaluator.list_diff_parts_measurements))\n",
    "np_diff_percentage_parts_measurements = np.squeeze(np.array(evaluator.list_diff_percentage_parts_measurements))\n",
    "list_part_mapes = []\n",
    "for idx in range(np_diff_parts_measurements.shape[1]) :\n",
    "\tpart_mape = sum(np_diff_percentage_parts_measurements[:,idx])/np_diff_parts_measurements.shape[0]\n",
    "\tprint(idx, part_mape)\n",
    "\t#print(sum(np_diff_percentage_parts_measurements[:,idx])/np_diff_parts_measurements.shape[0])\n",
    "\tlist_part_mapes.append(part_mape)\n",
    "print(\"mape\",sum(list_part_mapes)/len(list_part_mapes))"
   ]
  },
  {
   "cell_type": "code",
   "execution_count": 9,
   "metadata": {},
   "outputs": [],
   "source": [
    "iter_data_generator_test = iter(data_generator_test)"
   ]
  },
  {
   "cell_type": "code",
   "execution_count": 10,
   "metadata": {},
   "outputs": [
    {
     "name": "stdout",
     "output_type": "stream",
     "text": [
      "[array([[[[ 81.,  75.,  76.],\n",
      "         [ 82.,  84.,  78.],\n",
      "         [ 72.,  71.,  69.],\n",
      "         ...,\n",
      "         [182., 168., 162.],\n",
      "         [181., 167., 161.],\n",
      "         [179., 165., 159.]],\n",
      "\n",
      "        [[ 63.,  57.,  57.],\n",
      "         [ 87.,  93.,  93.],\n",
      "         [ 75.,  80.,  80.],\n",
      "         ...,\n",
      "         [183., 169., 163.],\n",
      "         [181., 167., 161.],\n",
      "         [180., 166., 160.]],\n",
      "\n",
      "        [[ 62.,  36.,  37.],\n",
      "         [ 78.,  73.,  74.],\n",
      "         [ 80.,  74.,  75.],\n",
      "         ...,\n",
      "         [183., 170., 164.],\n",
      "         [182., 168., 162.],\n",
      "         [180., 166., 160.]],\n",
      "\n",
      "        ...,\n",
      "\n",
      "        [[214., 200., 188.],\n",
      "         [213., 201., 191.],\n",
      "         [211., 199., 189.],\n",
      "         ...,\n",
      "         [195., 183., 173.],\n",
      "         [194., 182., 172.],\n",
      "         [190., 178., 168.]],\n",
      "\n",
      "        [[213., 201., 191.],\n",
      "         [211., 196., 187.],\n",
      "         [213., 198., 189.],\n",
      "         ...,\n",
      "         [197., 184., 175.],\n",
      "         [194., 181., 171.],\n",
      "         [194., 182., 172.]],\n",
      "\n",
      "        [[214., 201., 188.],\n",
      "         [213., 199., 187.],\n",
      "         [212., 198., 186.],\n",
      "         ...,\n",
      "         [193., 181., 171.],\n",
      "         [194., 182., 172.],\n",
      "         [195., 183., 173.]]],\n",
      "\n",
      "\n",
      "       [[[ 75.,  76.,  67.],\n",
      "         [ 74.,  74.,  64.],\n",
      "         [ 74.,  69.,  57.],\n",
      "         ...,\n",
      "         [202., 186., 174.],\n",
      "         [203., 187., 175.],\n",
      "         [202., 186., 174.]],\n",
      "\n",
      "        [[ 80.,  82.,  77.],\n",
      "         [ 57.,  64.,  66.],\n",
      "         [ 58.,  56.,  55.],\n",
      "         ...,\n",
      "         [203., 187., 175.],\n",
      "         [203., 187., 175.],\n",
      "         [203., 187., 175.]],\n",
      "\n",
      "        [[ 69.,  64.,  55.],\n",
      "         [ 75.,  73.,  75.],\n",
      "         [ 65.,  55.,  54.],\n",
      "         ...,\n",
      "         [203., 187., 175.],\n",
      "         [203., 187., 175.],\n",
      "         [203., 187., 175.]],\n",
      "\n",
      "        ...,\n",
      "\n",
      "        [[207., 196., 187.],\n",
      "         [208., 196., 186.],\n",
      "         [204., 192., 182.],\n",
      "         ...,\n",
      "         [208., 194., 182.],\n",
      "         [208., 194., 182.],\n",
      "         [208., 194., 182.]],\n",
      "\n",
      "        [[206., 194., 184.],\n",
      "         [208., 196., 186.],\n",
      "         [206., 194., 184.],\n",
      "         ...,\n",
      "         [208., 194., 181.],\n",
      "         [209., 195., 183.],\n",
      "         [208., 194., 181.]],\n",
      "\n",
      "        [[207., 195., 185.],\n",
      "         [207., 195., 185.],\n",
      "         [203., 191., 181.],\n",
      "         ...,\n",
      "         [206., 192., 180.],\n",
      "         [205., 193., 181.],\n",
      "         [209., 193., 181.]]],\n",
      "\n",
      "\n",
      "       [[[ 77.,  76.,  67.],\n",
      "         [ 81.,  82.,  73.],\n",
      "         [ 79.,  74.,  61.],\n",
      "         ...,\n",
      "         [204., 188., 176.],\n",
      "         [204., 188., 176.],\n",
      "         [204., 188., 176.]],\n",
      "\n",
      "        [[ 81.,  79.,  74.],\n",
      "         [ 64.,  75.,  75.],\n",
      "         [ 59.,  63.,  59.],\n",
      "         ...,\n",
      "         [202., 188., 176.],\n",
      "         [202., 188., 176.],\n",
      "         [202., 188., 176.]],\n",
      "\n",
      "        [[ 69.,  61.,  58.],\n",
      "         [ 80.,  83.,  81.],\n",
      "         [ 71.,  64.,  60.],\n",
      "         ...,\n",
      "         [202., 188., 176.],\n",
      "         [201., 187., 175.],\n",
      "         [203., 189., 177.]],\n",
      "\n",
      "        ...,\n",
      "\n",
      "        [[213., 197., 189.],\n",
      "         [207., 195., 185.],\n",
      "         [206., 194., 184.],\n",
      "         ...,\n",
      "         [209., 196., 182.],\n",
      "         [210., 196., 184.],\n",
      "         [211., 197., 185.]],\n",
      "\n",
      "        [[209., 197., 187.],\n",
      "         [210., 198., 188.],\n",
      "         [208., 196., 186.],\n",
      "         ...,\n",
      "         [210., 196., 184.],\n",
      "         [209., 195., 183.],\n",
      "         [208., 194., 182.]],\n",
      "\n",
      "        [[208., 196., 186.],\n",
      "         [207., 195., 185.],\n",
      "         [206., 194., 184.],\n",
      "         ...,\n",
      "         [208., 194., 182.],\n",
      "         [209., 195., 183.],\n",
      "         [209., 195., 183.]]],\n",
      "\n",
      "\n",
      "       [[[198., 185., 176.],\n",
      "         [200., 185., 176.],\n",
      "         [200., 185., 176.],\n",
      "         ...,\n",
      "         [199., 164., 130.],\n",
      "         [201., 166., 132.],\n",
      "         [198., 163., 129.]],\n",
      "\n",
      "        [[199., 187., 177.],\n",
      "         [198., 186., 176.],\n",
      "         [198., 186., 176.],\n",
      "         ...,\n",
      "         [200., 165., 131.],\n",
      "         [199., 164., 131.],\n",
      "         [198., 163., 130.]],\n",
      "\n",
      "        [[199., 187., 177.],\n",
      "         [199., 187., 177.],\n",
      "         [199., 187., 177.],\n",
      "         ...,\n",
      "         [200., 164., 131.],\n",
      "         [200., 165., 132.],\n",
      "         [196., 161., 128.]],\n",
      "\n",
      "        ...,\n",
      "\n",
      "        [[213., 204., 194.],\n",
      "         [217., 205., 195.],\n",
      "         [217., 206., 196.],\n",
      "         ...,\n",
      "         [215., 201., 189.],\n",
      "         [215., 201., 189.],\n",
      "         [205., 196., 183.]],\n",
      "\n",
      "        [[220., 208., 198.],\n",
      "         [220., 208., 198.],\n",
      "         [219., 207., 197.],\n",
      "         ...,\n",
      "         [212., 198., 186.],\n",
      "         [213., 200., 186.],\n",
      "         [216., 201., 193.]],\n",
      "\n",
      "        [[222., 198., 190.],\n",
      "         [218., 206., 196.],\n",
      "         [218., 206., 196.],\n",
      "         ...,\n",
      "         [213., 199., 187.],\n",
      "         [214., 200., 188.],\n",
      "         [215., 201., 189.]]]], dtype=float32), array([[137.8,  83.2, 123.3, 100.1,  75.4,  42.4,  56.5,  30. ,  80.5,\n",
      "         64.1,  67.2,  87.8,  50.3,  34.6,  32.8,  20.1,  23.7,  24.8,\n",
      "         21.9,  14. ,  32.6,  57. ,  33.5,  21.2,  10.8,  23.3,   9.3,\n",
      "         13.8,  17. ,  10.1,   7.6],\n",
      "       [145.9,  84.7, 128.2, 107.2,  78.3,  42.5,  59.5,  38.2,  93.6,\n",
      "         81.5,  86.3, 102.2,  62. ,  37.3,  38.6,  23.8,  26.8,  33.4,\n",
      "         26.8,  16.8,  31.6,  57.3,  41.6,  23.9,  11.1,  26.6,  10.4,\n",
      "         15. ,  18.6,  11.2,   8.3],\n",
      "       [145.9,  84.7, 128.2, 107.2,  78.3,  42.5,  59.5,  38.2,  93.6,\n",
      "         81.5,  86.3, 102.2,  62. ,  37.3,  38.6,  23.8,  26.8,  33.4,\n",
      "         26.8,  16.8,  31.6,  57.3,  41.6,  23.9,  11.1,  26.6,  10.4,\n",
      "         15. ,  18.6,  11.2,   8.3],\n",
      "       [137.8,  83.2, 123.3, 100.1,  75.4,  42.4,  56.5,  30. ,  80.5,\n",
      "         64.1,  67.2,  87.8,  50.3,  34.6,  32.8,  20.1,  23.7,  24.8,\n",
      "         21.9,  14. ,  32.6,  57. ,  33.5,  21.2,  10.8,  23.3,   9.3,\n",
      "         13.8,  17. ,  10.1,   7.6]], dtype=float32), array([[164.1     ,  18.344666],\n",
      "       [176.9     ,  24.797394],\n",
      "       [176.9     ,  24.797394],\n",
      "       [164.1     ,  18.344666]], dtype=float32)]\n"
     ]
    }
   ],
   "source": [
    "data = next(iter_data_generator_test)\n",
    "print(data)"
   ]
  },
  {
   "cell_type": "code",
   "execution_count": 11,
   "metadata": {},
   "outputs": [
    {
     "name": "stderr",
     "output_type": "stream",
     "text": [
      "C:\\Users\\user\\AppData\\Local\\Temp\\ipykernel_32716\\3747738581.py:1: DeprecationWarning: `np.int` is a deprecated alias for the builtin `int`. To silence this warning, use `int` by itself. Doing this will not modify any behavior and is safe. When replacing `np.int`, you may wish to use e.g. `np.int64` or `np.int32` to specify the precision. If you wish to review your current use, check the release note link for additional information.\n",
      "Deprecated in NumPy 1.20; for more details and guidance: https://numpy.org/devdocs/release/1.20.0-notes.html#deprecations\n",
      "  plt.imshow(data[0][0,:,:,::-1].astype(np.int))\n"
     ]
    },
    {
     "data": {
      "image/png": "[encoded data removed]",
      "text/plain": [
       "<Figure size 640x480 with 1 Axes>"
      ]
     },
     "metadata": {},
     "output_type": "display_data"
    }
   ],
   "source": [
    "plt.imshow(data[0][0,:,:,::-1].astype(np.int))\n",
    "plt.show()"
   ]
  },
  {
   "cell_type": "code",
   "execution_count": 12,
   "metadata": {},
   "outputs": [
    {
     "name": "stdout",
     "output_type": "stream",
     "text": [
      "1/1 [==============================] - 0s 23ms/step\n"
     ]
    }
   ],
   "source": [
    "result = model.predict([data[0], data[2]])"
   ]
  },
  {
   "cell_type": "code",
   "execution_count": 13,
   "metadata": {},
   "outputs": [
    {
     "data": {
      "text/plain": [
       "array([138.32373  ,  81.71346  , 121.473724 , 100.79477  ,  74.16317  ,\n",
       "        42.421593 ,  53.210712 ,  30.16333  ,  81.950584 ,  67.04444  ,\n",
       "        72.49179  ,  87.38764  ,  49.137493 ,  33.772285 ,  34.189304 ,\n",
       "        19.892082 ,  24.19017  ,  24.845873 ,  21.44455  ,  14.098833 ,\n",
       "        29.916315 ,  52.592327 ,  34.87808  ,  21.745422 ,  11.05244  ,\n",
       "        23.225113 ,   9.094967 ,  12.051038 ,  17.301704 ,   9.369247 ,\n",
       "         7.3933425], dtype=float32)"
      ]
     },
     "execution_count": 13,
     "metadata": {},
     "output_type": "execute_result"
    }
   ],
   "source": [
    "result[0]"
   ]
  },
  {
   "cell_type": "code",
   "execution_count": 14,
   "metadata": {},
   "outputs": [
    {
     "data": {
      "text/plain": [
       "array([137.8,  83.2, 123.3, 100.1,  75.4,  42.4,  56.5,  30. ,  80.5,\n",
       "        64.1,  67.2,  87.8,  50.3,  34.6,  32.8,  20.1,  23.7,  24.8,\n",
       "        21.9,  14. ,  32.6,  57. ,  33.5,  21.2,  10.8,  23.3,   9.3,\n",
       "        13.8,  17. ,  10.1,   7.6], dtype=float32)"
      ]
     },
     "execution_count": 14,
     "metadata": {},
     "output_type": "execute_result"
    }
   ],
   "source": [
    "data[1][0]"
   ]
  },
  {
   "cell_type": "code",
   "execution_count": 15,
   "metadata": {},
   "outputs": [
    {
     "name": "stdout",
     "output_type": "stream",
     "text": [
      "list_user_dirs ['F004', 'M004']\n"
     ]
    }
   ],
   "source": [
    "# model = get_model(config)\n",
    "# model.summary()\n",
    "# model.load_weights('blazepose_attention_31features_1002train_mf/blazepose_attention_0_3.2034787193590604.h5')\n",
    "data_generator_test = BodyPartsMeasurementDataGenerator(config, data_type=\"test\")"
   ]
  },
  {
   "cell_type": "code",
   "execution_count": 16,
   "metadata": {},
   "outputs": [
    {
     "name": "stderr",
     "output_type": "stream",
     "text": [
      "  0%|          | 0/54 [00:00<?, ?it/s]"
     ]
    },
    {
     "name": "stdout",
     "output_type": "stream",
     "text": [
      "1/1 [==============================] - 1s 816ms/step\n"
     ]
    },
    {
     "name": "stderr",
     "output_type": "stream",
     "text": [
      "  2%|▏         | 1/54 [00:00<00:48,  1.10it/s]"
     ]
    },
    {
     "name": "stdout",
     "output_type": "stream",
     "text": [
      "1/1 [==============================] - 0s 19ms/step\n"
     ]
    },
    {
     "name": "stderr",
     "output_type": "stream",
     "text": [
      "  4%|▎         | 2/54 [00:01<00:22,  2.29it/s]"
     ]
    },
    {
     "name": "stdout",
     "output_type": "stream",
     "text": [
      "1/1 [==============================] - 0s 18ms/step\n"
     ]
    },
    {
     "name": "stderr",
     "output_type": "stream",
     "text": [
      "  6%|▌         | 3/54 [00:01<00:14,  3.48it/s]"
     ]
    },
    {
     "name": "stdout",
     "output_type": "stream",
     "text": [
      "1/1 [==============================] - 0s 19ms/step\n"
     ]
    },
    {
     "name": "stderr",
     "output_type": "stream",
     "text": [
      "  7%|▋         | 4/54 [00:01<00:10,  4.60it/s]"
     ]
    },
    {
     "name": "stdout",
     "output_type": "stream",
     "text": [
      "1/1 [==============================] - 0s 19ms/step\n"
     ]
    },
    {
     "name": "stderr",
     "output_type": "stream",
     "text": [
      "  9%|▉         | 5/54 [00:01<00:08,  5.45it/s]"
     ]
    },
    {
     "name": "stdout",
     "output_type": "stream",
     "text": [
      "1/1 [==============================] - 0s 19ms/step\n"
     ]
    },
    {
     "name": "stderr",
     "output_type": "stream",
     "text": [
      " 11%|█         | 6/54 [00:01<00:07,  6.35it/s]"
     ]
    },
    {
     "name": "stdout",
     "output_type": "stream",
     "text": [
      "1/1 [==============================] - 0s 18ms/step\n"
     ]
    },
    {
     "name": "stderr",
     "output_type": "stream",
     "text": [
      " 13%|█▎        | 7/54 [00:01<00:06,  7.14it/s]"
     ]
    },
    {
     "name": "stdout",
     "output_type": "stream",
     "text": [
      "1/1 [==============================] - 0s 18ms/step\n"
     ]
    },
    {
     "name": "stderr",
     "output_type": "stream",
     "text": [
      " 15%|█▍        | 8/54 [00:01<00:05,  7.72it/s]"
     ]
    },
    {
     "name": "stdout",
     "output_type": "stream",
     "text": [
      "1/1 [==============================] - 0s 18ms/step\n"
     ]
    },
    {
     "name": "stderr",
     "output_type": "stream",
     "text": [
      " 17%|█▋        | 9/54 [00:01<00:05,  8.21it/s]"
     ]
    },
    {
     "name": "stdout",
     "output_type": "stream",
     "text": [
      "1/1 [==============================] - 0s 22ms/step\n"
     ]
    },
    {
     "name": "stderr",
     "output_type": "stream",
     "text": [
      " 19%|█▊        | 10/54 [00:01<00:05,  8.42it/s]"
     ]
    },
    {
     "name": "stdout",
     "output_type": "stream",
     "text": [
      "1/1 [==============================] - 0s 19ms/step\n"
     ]
    },
    {
     "name": "stderr",
     "output_type": "stream",
     "text": [
      " 20%|██        | 11/54 [00:01<00:04,  8.73it/s]"
     ]
    },
    {
     "name": "stdout",
     "output_type": "stream",
     "text": [
      "1/1 [==============================] - 0s 18ms/step\n"
     ]
    },
    {
     "name": "stderr",
     "output_type": "stream",
     "text": [
      " 22%|██▏       | 12/54 [00:02<00:04,  8.98it/s]"
     ]
    },
    {
     "name": "stdout",
     "output_type": "stream",
     "text": [
      "1/1 [==============================] - 0s 19ms/step\n"
     ]
    },
    {
     "name": "stderr",
     "output_type": "stream",
     "text": [
      " 24%|██▍       | 13/54 [00:02<00:04,  9.01it/s]"
     ]
    },
    {
     "name": "stdout",
     "output_type": "stream",
     "text": [
      "1/1 [==============================] - 0s 19ms/step\n"
     ]
    },
    {
     "name": "stderr",
     "output_type": "stream",
     "text": [
      " 26%|██▌       | 14/54 [00:02<00:04,  9.16it/s]"
     ]
    },
    {
     "name": "stdout",
     "output_type": "stream",
     "text": [
      "1/1 [==============================] - 0s 20ms/step\n"
     ]
    },
    {
     "name": "stderr",
     "output_type": "stream",
     "text": [
      " 28%|██▊       | 15/54 [00:02<00:04,  9.16it/s]"
     ]
    },
    {
     "name": "stdout",
     "output_type": "stream",
     "text": [
      "1/1 [==============================] - 0s 19ms/step\n"
     ]
    },
    {
     "name": "stderr",
     "output_type": "stream",
     "text": [
      " 30%|██▉       | 16/54 [00:02<00:04,  9.24it/s]"
     ]
    },
    {
     "name": "stdout",
     "output_type": "stream",
     "text": [
      "1/1 [==============================] - 0s 21ms/step\n"
     ]
    },
    {
     "name": "stderr",
     "output_type": "stream",
     "text": [
      " 31%|███▏      | 17/54 [00:02<00:04,  9.16it/s]"
     ]
    },
    {
     "name": "stdout",
     "output_type": "stream",
     "text": [
      "1/1 [==============================] - 0s 19ms/step\n"
     ]
    },
    {
     "name": "stderr",
     "output_type": "stream",
     "text": [
      " 33%|███▎      | 18/54 [00:02<00:03,  9.21it/s]"
     ]
    },
    {
     "name": "stdout",
     "output_type": "stream",
     "text": [
      "1/1 [==============================] - 0s 24ms/step\n"
     ]
    },
    {
     "name": "stderr",
     "output_type": "stream",
     "text": [
      " 35%|███▌      | 19/54 [00:02<00:03,  9.20it/s]"
     ]
    },
    {
     "name": "stdout",
     "output_type": "stream",
     "text": [
      "1/1 [==============================] - 0s 27ms/step\n"
     ]
    },
    {
     "name": "stderr",
     "output_type": "stream",
     "text": [
      " 37%|███▋      | 20/54 [00:02<00:03,  9.22it/s]"
     ]
    },
    {
     "name": "stdout",
     "output_type": "stream",
     "text": [
      "1/1 [==============================] - 0s 20ms/step\n"
     ]
    },
    {
     "name": "stderr",
     "output_type": "stream",
     "text": [
      " 39%|███▉      | 21/54 [00:03<00:03,  9.19it/s]"
     ]
    },
    {
     "name": "stdout",
     "output_type": "stream",
     "text": [
      "1/1 [==============================] - 0s 19ms/step\n"
     ]
    },
    {
     "name": "stderr",
     "output_type": "stream",
     "text": [
      " 41%|████      | 22/54 [00:03<00:03,  9.20it/s]"
     ]
    },
    {
     "name": "stdout",
     "output_type": "stream",
     "text": [
      "1/1 [==============================] - 0s 18ms/step\n"
     ]
    },
    {
     "name": "stderr",
     "output_type": "stream",
     "text": [
      " 43%|████▎     | 23/54 [00:03<00:03,  9.22it/s]"
     ]
    },
    {
     "name": "stdout",
     "output_type": "stream",
     "text": [
      "1/1 [==============================] - 0s 27ms/step\n"
     ]
    },
    {
     "name": "stderr",
     "output_type": "stream",
     "text": [
      " 44%|████▍     | 24/54 [00:03<00:03,  9.34it/s]"
     ]
    },
    {
     "name": "stdout",
     "output_type": "stream",
     "text": [
      "1/1 [==============================] - 0s 18ms/step\n"
     ]
    },
    {
     "name": "stderr",
     "output_type": "stream",
     "text": [
      " 46%|████▋     | 25/54 [00:03<00:03,  9.39it/s]"
     ]
    },
    {
     "name": "stdout",
     "output_type": "stream",
     "text": [
      "1/1 [==============================] - 0s 20ms/step\n"
     ]
    },
    {
     "name": "stderr",
     "output_type": "stream",
     "text": [
      " 48%|████▊     | 26/54 [00:03<00:03,  9.27it/s]"
     ]
    },
    {
     "name": "stdout",
     "output_type": "stream",
     "text": [
      "1/1 [==============================] - 0s 20ms/step\n"
     ]
    },
    {
     "name": "stderr",
     "output_type": "stream",
     "text": [
      " 50%|█████     | 27/54 [00:03<00:02,  9.14it/s]"
     ]
    },
    {
     "name": "stdout",
     "output_type": "stream",
     "text": [
      "1/1 [==============================] - 0s 18ms/step\n"
     ]
    },
    {
     "name": "stderr",
     "output_type": "stream",
     "text": [
      " 52%|█████▏    | 28/54 [00:03<00:02,  9.23it/s]"
     ]
    },
    {
     "name": "stdout",
     "output_type": "stream",
     "text": [
      "1/1 [==============================] - 0s 19ms/step\n"
     ]
    },
    {
     "name": "stderr",
     "output_type": "stream",
     "text": [
      " 54%|█████▎    | 29/54 [00:03<00:02,  9.03it/s]"
     ]
    },
    {
     "name": "stdout",
     "output_type": "stream",
     "text": [
      "1/1 [==============================] - 0s 19ms/step\n"
     ]
    },
    {
     "name": "stderr",
     "output_type": "stream",
     "text": [
      " 56%|█████▌    | 30/54 [00:04<00:02,  9.10it/s]"
     ]
    },
    {
     "name": "stdout",
     "output_type": "stream",
     "text": [
      "1/1 [==============================] - 0s 18ms/step\n"
     ]
    },
    {
     "name": "stderr",
     "output_type": "stream",
     "text": [
      " 57%|█████▋    | 31/54 [00:04<00:02,  9.10it/s]"
     ]
    },
    {
     "name": "stdout",
     "output_type": "stream",
     "text": [
      "1/1 [==============================] - 0s 23ms/step\n"
     ]
    },
    {
     "name": "stderr",
     "output_type": "stream",
     "text": [
      " 59%|█████▉    | 32/54 [00:04<00:02,  9.15it/s]"
     ]
    },
    {
     "name": "stdout",
     "output_type": "stream",
     "text": [
      "1/1 [==============================] - 0s 18ms/step\n"
     ]
    },
    {
     "name": "stderr",
     "output_type": "stream",
     "text": [
      " 61%|██████    | 33/54 [00:04<00:02,  9.18it/s]"
     ]
    },
    {
     "name": "stdout",
     "output_type": "stream",
     "text": [
      "1/1 [==============================] - 0s 18ms/step\n"
     ]
    },
    {
     "name": "stderr",
     "output_type": "stream",
     "text": [
      " 63%|██████▎   | 34/54 [00:04<00:02,  9.18it/s]"
     ]
    },
    {
     "name": "stdout",
     "output_type": "stream",
     "text": [
      "1/1 [==============================] - 0s 18ms/step\n"
     ]
    },
    {
     "name": "stderr",
     "output_type": "stream",
     "text": [
      " 65%|██████▍   | 35/54 [00:04<00:02,  9.25it/s]"
     ]
    },
    {
     "name": "stdout",
     "output_type": "stream",
     "text": [
      "1/1 [==============================] - 0s 26ms/step\n"
     ]
    },
    {
     "name": "stderr",
     "output_type": "stream",
     "text": [
      " 67%|██████▋   | 36/54 [00:04<00:01,  9.33it/s]"
     ]
    },
    {
     "name": "stdout",
     "output_type": "stream",
     "text": [
      "1/1 [==============================] - 0s 19ms/step\n"
     ]
    },
    {
     "name": "stderr",
     "output_type": "stream",
     "text": [
      " 69%|██████▊   | 37/54 [00:04<00:01,  9.12it/s]"
     ]
    },
    {
     "name": "stdout",
     "output_type": "stream",
     "text": [
      "1/1 [==============================] - 0s 18ms/step\n"
     ]
    },
    {
     "name": "stderr",
     "output_type": "stream",
     "text": [
      " 70%|███████   | 38/54 [00:04<00:01,  9.05it/s]"
     ]
    },
    {
     "name": "stdout",
     "output_type": "stream",
     "text": [
      "1/1 [==============================] - 0s 21ms/step\n"
     ]
    },
    {
     "name": "stderr",
     "output_type": "stream",
     "text": [
      " 72%|███████▏  | 39/54 [00:05<00:01,  9.16it/s]"
     ]
    },
    {
     "name": "stdout",
     "output_type": "stream",
     "text": [
      "1/1 [==============================] - 0s 20ms/step\n"
     ]
    },
    {
     "name": "stderr",
     "output_type": "stream",
     "text": [
      " 74%|███████▍  | 40/54 [00:05<00:01,  9.16it/s]"
     ]
    },
    {
     "name": "stdout",
     "output_type": "stream",
     "text": [
      "1/1 [==============================] - 0s 24ms/step\n"
     ]
    },
    {
     "name": "stderr",
     "output_type": "stream",
     "text": [
      " 76%|███████▌  | 41/54 [00:05<00:01,  9.08it/s]"
     ]
    },
    {
     "name": "stdout",
     "output_type": "stream",
     "text": [
      "1/1 [==============================] - 0s 19ms/step\n"
     ]
    },
    {
     "name": "stderr",
     "output_type": "stream",
     "text": [
      " 78%|███████▊  | 42/54 [00:05<00:01,  9.13it/s]"
     ]
    },
    {
     "name": "stdout",
     "output_type": "stream",
     "text": [
      "1/1 [==============================] - 0s 19ms/step\n"
     ]
    },
    {
     "name": "stderr",
     "output_type": "stream",
     "text": [
      " 80%|███████▉  | 43/54 [00:05<00:01,  9.14it/s]"
     ]
    },
    {
     "name": "stdout",
     "output_type": "stream",
     "text": [
      "1/1 [==============================] - 0s 19ms/step\n"
     ]
    },
    {
     "name": "stderr",
     "output_type": "stream",
     "text": [
      " 81%|████████▏ | 44/54 [00:05<00:01,  9.20it/s]"
     ]
    },
    {
     "name": "stdout",
     "output_type": "stream",
     "text": [
      "1/1 [==============================] - 0s 20ms/step\n"
     ]
    },
    {
     "name": "stderr",
     "output_type": "stream",
     "text": [
      " 83%|████████▎ | 45/54 [00:05<00:00,  9.22it/s]"
     ]
    },
    {
     "name": "stdout",
     "output_type": "stream",
     "text": [
      "1/1 [==============================] - 0s 18ms/step\n"
     ]
    },
    {
     "name": "stderr",
     "output_type": "stream",
     "text": [
      " 85%|████████▌ | 46/54 [00:05<00:00,  9.21it/s]"
     ]
    },
    {
     "name": "stdout",
     "output_type": "stream",
     "text": [
      "1/1 [==============================] - 0s 24ms/step\n"
     ]
    },
    {
     "name": "stderr",
     "output_type": "stream",
     "text": [
      " 87%|████████▋ | 47/54 [00:05<00:00,  9.17it/s]"
     ]
    },
    {
     "name": "stdout",
     "output_type": "stream",
     "text": [
      "1/1 [==============================] - 0s 19ms/step\n"
     ]
    },
    {
     "name": "stderr",
     "output_type": "stream",
     "text": [
      " 89%|████████▉ | 48/54 [00:06<00:00,  9.15it/s]"
     ]
    },
    {
     "name": "stdout",
     "output_type": "stream",
     "text": [
      "1/1 [==============================] - 0s 21ms/step\n"
     ]
    },
    {
     "name": "stderr",
     "output_type": "stream",
     "text": [
      " 91%|█████████ | 49/54 [00:06<00:00,  9.11it/s]"
     ]
    },
    {
     "name": "stdout",
     "output_type": "stream",
     "text": [
      "1/1 [==============================] - 0s 19ms/step\n"
     ]
    },
    {
     "name": "stderr",
     "output_type": "stream",
     "text": [
      " 93%|█████████▎| 50/54 [00:06<00:00,  9.10it/s]"
     ]
    },
    {
     "name": "stdout",
     "output_type": "stream",
     "text": [
      "1/1 [==============================] - 0s 18ms/step\n"
     ]
    },
    {
     "name": "stderr",
     "output_type": "stream",
     "text": [
      " 94%|█████████▍| 51/54 [00:06<00:00,  9.15it/s]"
     ]
    },
    {
     "name": "stdout",
     "output_type": "stream",
     "text": [
      "1/1 [==============================] - 0s 19ms/step\n"
     ]
    },
    {
     "name": "stderr",
     "output_type": "stream",
     "text": [
      " 96%|█████████▋| 52/54 [00:06<00:00,  9.11it/s]"
     ]
    },
    {
     "name": "stdout",
     "output_type": "stream",
     "text": [
      "1/1 [==============================] - 0s 19ms/step\n"
     ]
    },
    {
     "name": "stderr",
     "output_type": "stream",
     "text": [
      " 98%|█████████▊| 53/54 [00:06<00:00,  9.25it/s]"
     ]
    },
    {
     "name": "stdout",
     "output_type": "stream",
     "text": [
      "1/1 [==============================] - 0s 20ms/step\n"
     ]
    },
    {
     "name": "stderr",
     "output_type": "stream",
     "text": [
      "100%|██████████| 54/54 [00:06<00:00,  8.09it/s]\n"
     ]
    }
   ],
   "source": [
    "f_w = open(\"eval_results_test.txt\",\"w\")\n",
    "f_w.write(\"Evaluation Started At \"+datetime.datetime.now().strftime('%Y-%m-%d %H:%M:%S') + \"\\n\")\n",
    "\n",
    "list_mape = []\n",
    "list_diff_percentage_parts_measurements = []\n",
    "\n",
    "\n",
    "\n",
    "for idx in tqdm(range(len(data_generator_test))) :\n",
    "\ttry :\n",
    "\t\tbatch_data = data_generator_test.get_data(idx)\n",
    "\texcept :\n",
    "\t\tprint(\"idx\",idx,\"wrong\")\n",
    "\t# batch_images, batch_body_parts_measurement, batch_categorical_bmi_and_height, filename = batch_data\n",
    "\tbatch_images, batch_body_parts_measurement, batch_categorical_bmi_and_height = batch_data\n",
    "\tbatch_images, batch_body_parts_measurement, batch_categorical_bmi_and_height = np.expand_dims(batch_images, axis=0), np.expand_dims(batch_body_parts_measurement, axis=0), np.expand_dims(batch_categorical_bmi_and_height, axis=0)\n",
    "\n",
    "\tpd_parts_measurements = model.predict([batch_images, batch_categorical_bmi_and_height])\n",
    "\tbatch_diff_parts_measurements = abs(batch_body_parts_measurement - pd_parts_measurements)\n",
    "\tbatch_diff_percentage_parts_measurements = abs(batch_diff_parts_measurements / batch_body_parts_measurement)\n",
    "\t\n",
    "\n",
    "\tmape = sum(batch_diff_percentage_parts_measurements[0]) / len(batch_diff_percentage_parts_measurements[0])\n",
    "\n",
    "\t# str_filename = str(idx) + \" filename: \" + filename + \"\\n\"\n",
    "\tstr_gt = \"gt: \" + \", \".join(str(x) for x in batch_body_parts_measurement[0]) + \"\\n\"\n",
    "\tstr_pd = \"pd: \" + \", \".join(str(x) for x in pd_parts_measurements[0]) + \"\\n\"\n",
    "\tstr_pe = \"ape: \" + \", \".join(str(x) for x in batch_diff_percentage_parts_measurements[0]) + \"\\n\"\n",
    "\tstr_mape = \"MAPE : \" + str(mape) + \"\\n\\n\"\n",
    "\n",
    "\t# f_w.write(str_filename)\n",
    "\tf_w.write(str_gt)\n",
    "\tf_w.write(str_pd)\n",
    "\tf_w.write(str_pe)\n",
    "\tf_w.write(str_mape)\n",
    "\n",
    "\tlist_mape.append(mape)\n",
    "\tlist_diff_percentage_parts_measurements.append(batch_diff_percentage_parts_measurements)\n",
    "\n",
    "np_diff_percentage_parts_measurements = np.squeeze(np.array(list_diff_percentage_parts_measurements))\n",
    "for idx in range(np_diff_percentage_parts_measurements.shape[1]) :\n",
    "\tpart_mape = sum(np_diff_percentage_parts_measurements[:,idx])/np_diff_percentage_parts_measurements.shape[0]\n",
    "\tf_w.write(\"Part MAPE \"+ str(idx) + \": \" + str(part_mape) + \"\\n\")\n",
    "\n",
    "f_w.write(\"MAPE for Test Dataset : \" + str(sum(list_mape)/len(list_mape)) + \"\\n\")\n",
    "f_w.write(\"Evaluation Ended At \"+datetime.datetime.now().strftime('%Y-%m-%d %H:%M:%S') + \"\\n\")\n",
    "f_w.close()"
   ]
  },
  {
   "cell_type": "code",
   "execution_count": 17,
   "metadata": {},
   "outputs": [
    {
     "name": "stdout",
     "output_type": "stream",
     "text": [
      "MAPE for Test Dataset : 0.03286979577317786\n",
      "\n",
      "Evaluation Ended At 2024-10-22 20:42:16\n",
      "\n"
     ]
    }
   ],
   "source": [
    "print(\"MAPE for Test Dataset : \" + str(sum(list_mape)/len(list_mape)) + \"\\n\")\n",
    "print(\"Evaluation Ended At \"+datetime.datetime.now().strftime('%Y-%m-%d %H:%M:%S') + \"\\n\")"
   ]
  }
 ],
 "metadata": {
  "kernelspec": {
   "display_name": "TF_gpu",
   "language": "python",
   "name": "python3"
  },
  "language_info": {
   "codemirror_mode": {
    "name": "ipython",
    "version": 3
   },
   "file_extension": ".py",
   "mimetype": "text/x-python",
   "name": "python",
   "nbconvert_exporter": "python",
   "pygments_lexer": "ipython3",
   "version": "3.9.13"
  },
  "orig_nbformat": 4
 },
 "nbformat": 4,
 "nbformat_minor": 2
}
