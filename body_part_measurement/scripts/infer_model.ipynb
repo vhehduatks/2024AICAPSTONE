{
 "cells": [
  {
   "cell_type": "code",
   "execution_count": 1,
   "metadata": {},
   "outputs": [],
   "source": [
    "import sys\n",
    "sys.path.append(\"..\")\n",
    "from model.measurement_attention_mlp import get_measurement_attention_mlp\n",
    "from model.blazepose import BlazePose\n",
    "import cv2\n",
    "import numpy as np"
   ]
  },
  {
   "cell_type": "code",
   "execution_count": 2,
   "metadata": {},
   "outputs": [],
   "source": [
    "# model\n",
    "attention_mlp = get_measurement_attention_mlp(batch_size=1,num_input_features=2)\n",
    "blazepose_model = BlazePose(batch_size=1,input_shape=[256,256,3], num_keypoints=31, num_seg_channels=10, attention_model=attention_mlp)\n",
    "model = blazepose_model.build_model(model_type=\"REGRESSION\")\n",
    "model.load_weights(r'C:\\AI_class_yang\\AI_code\\신체 치수 예측\\body_part_measurement_source\\body_part_measurement\\scripts\\blazepose_attention_0_3.022645455819589.h5')"
   ]
  },
  {
   "cell_type": "code",
   "execution_count": 8,
   "metadata": {},
   "outputs": [],
   "source": [
    "# input data\n",
    "\n",
    "\n",
    "path_img = r'C:\\AI_class_yang\\AI_code\\Test_img.png'\n",
    "# path_img = r'C:\\AI_class_yang\\sample_data_2\\test\\M004\\Image\\03_02_M004_18.jpg'\n",
    "height = 176.9\n",
    "weight = 77.6\n",
    "bmi = weight/(height/100)**2\n",
    "img = cv2.imread(path_img)\n",
    "img = cv2.resize(img, (256, 256))\n",
    "test_image = img\n",
    "test_bmi_and_height = regression_features = np.asarray([height, bmi])\n",
    "test_image = test_image[np.newaxis,:]\n",
    "test_bmi_and_height = test_bmi_and_height[np.newaxis,:]"
   ]
  },
  {
   "cell_type": "code",
   "execution_count": 9,
   "metadata": {},
   "outputs": [
    {
     "name": "stdout",
     "output_type": "stream",
     "text": [
      "(1, 256, 256, 3) (1, 2) 24.79739473969286\n"
     ]
    }
   ],
   "source": [
    "print(test_image.shape,test_bmi_and_height.shape,bmi)"
   ]
  },
  {
   "cell_type": "code",
   "execution_count": 5,
   "metadata": {},
   "outputs": [],
   "source": [
    "# cv2.imshow('Image', img)\n",
    "# cv2.waitKey(0)\n",
    "# cv2.destroyAllWindows()"
   ]
  },
  {
   "cell_type": "code",
   "execution_count": 10,
   "metadata": {},
   "outputs": [
    {
     "name": "stdout",
     "output_type": "stream",
     "text": [
      "1/1 [==============================] - 0s 20ms/step\n"
     ]
    }
   ],
   "source": [
    "pd_parts_measurements = model.predict([test_image, test_bmi_and_height])"
   ]
  },
  {
   "cell_type": "code",
   "execution_count": 7,
   "metadata": {},
   "outputs": [
    {
     "data": {
      "text/plain": [
       "array([[148.57889  ,  84.82052  , 130.69278  , 105.124146 ,  76.72649  ,\n",
       "         47.234848 ,  59.015102 ,  38.7352   ,  92.704926 ,  86.424644 ,\n",
       "         87.67499  ,  96.79737  ,  61.336063 ,  37.595127 ,  38.232742 ,\n",
       "         22.902227 ,  25.249088 ,  33.741573 ,  26.72818  ,  16.588848 ,\n",
       "         31.917212 ,  56.384823 ,  42.76963  ,  22.960867 ,  11.8500185,\n",
       "         25.10537  ,   9.949006 ,  14.423462 ,  17.862263 ,  10.322095 ,\n",
       "          8.409046 ]], dtype=float32)"
      ]
     },
     "execution_count": 7,
     "metadata": {},
     "output_type": "execute_result"
    }
   ],
   "source": [
    "pd_parts_measurements"
   ]
  }
 ],
 "metadata": {
  "kernelspec": {
   "display_name": "TF_gpu",
   "language": "python",
   "name": "python3"
  },
  "language_info": {
   "codemirror_mode": {
    "name": "ipython",
    "version": 3
   },
   "file_extension": ".py",
   "mimetype": "text/x-python",
   "name": "python",
   "nbconvert_exporter": "python",
   "pygments_lexer": "ipython3",
   "version": "undefined.undefined.undefined"
  }
 },
 "nbformat": 4,
 "nbformat_minor": 2
}
